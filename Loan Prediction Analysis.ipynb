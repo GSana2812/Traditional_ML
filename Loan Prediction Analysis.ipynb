{
 "cells": [
  {
   "cell_type": "markdown",
   "id": "2f487ecc",
   "metadata": {},
   "source": [
    "This is the second version of the \"Loan Prediction\" project, now with more data wrangling and also more models adding as well as more attempts to improve accuracy of the models."
   ]
  },
  {
   "cell_type": "markdown",
   "id": "5b2affae",
   "metadata": {},
   "source": [
    "## Importing modules"
   ]
  },
  {
   "cell_type": "code",
   "execution_count": 221,
   "id": "4af8e3c6",
   "metadata": {},
   "outputs": [],
   "source": [
    "import numpy as np\n",
    "import pandas as pd\n",
    "import matplotlib.pyplot as plt\n",
    "import warnings\n",
    "warnings.filterwarnings('ignore')\n",
    "import seaborn as sns"
   ]
  },
  {
   "cell_type": "code",
   "execution_count": 222,
   "id": "15f6c1c4",
   "metadata": {},
   "outputs": [
    {
     "data": {
      "text/plain": [
       "(614, 13)"
      ]
     },
     "execution_count": 222,
     "metadata": {},
     "output_type": "execute_result"
    }
   ],
   "source": [
    "loan_df = pd.read_csv('loan.csv')\n",
    "loan_df.shape"
   ]
  },
  {
   "cell_type": "code",
   "execution_count": 223,
   "id": "e1778e57",
   "metadata": {},
   "outputs": [
    {
     "data": {
      "text/html": [
       "<div>\n",
       "<style scoped>\n",
       "    .dataframe tbody tr th:only-of-type {\n",
       "        vertical-align: middle;\n",
       "    }\n",
       "\n",
       "    .dataframe tbody tr th {\n",
       "        vertical-align: top;\n",
       "    }\n",
       "\n",
       "    .dataframe thead th {\n",
       "        text-align: right;\n",
       "    }\n",
       "</style>\n",
       "<table border=\"1\" class=\"dataframe\">\n",
       "  <thead>\n",
       "    <tr style=\"text-align: right;\">\n",
       "      <th></th>\n",
       "      <th>Loan_ID</th>\n",
       "      <th>Gender</th>\n",
       "      <th>Married</th>\n",
       "      <th>Dependents</th>\n",
       "      <th>Education</th>\n",
       "      <th>Self_Employed</th>\n",
       "      <th>ApplicantIncome</th>\n",
       "      <th>CoapplicantIncome</th>\n",
       "      <th>LoanAmount</th>\n",
       "      <th>Loan_Amount_Term</th>\n",
       "      <th>Credit_History</th>\n",
       "      <th>Property_Area</th>\n",
       "      <th>Loan_Status</th>\n",
       "    </tr>\n",
       "  </thead>\n",
       "  <tbody>\n",
       "    <tr>\n",
       "      <th>0</th>\n",
       "      <td>LP001002</td>\n",
       "      <td>Male</td>\n",
       "      <td>No</td>\n",
       "      <td>0</td>\n",
       "      <td>Graduate</td>\n",
       "      <td>No</td>\n",
       "      <td>5849</td>\n",
       "      <td>0.0</td>\n",
       "      <td>NaN</td>\n",
       "      <td>360.0</td>\n",
       "      <td>1.0</td>\n",
       "      <td>Urban</td>\n",
       "      <td>Y</td>\n",
       "    </tr>\n",
       "    <tr>\n",
       "      <th>1</th>\n",
       "      <td>LP001003</td>\n",
       "      <td>Male</td>\n",
       "      <td>Yes</td>\n",
       "      <td>1</td>\n",
       "      <td>Graduate</td>\n",
       "      <td>No</td>\n",
       "      <td>4583</td>\n",
       "      <td>1508.0</td>\n",
       "      <td>128.0</td>\n",
       "      <td>360.0</td>\n",
       "      <td>1.0</td>\n",
       "      <td>Rural</td>\n",
       "      <td>N</td>\n",
       "    </tr>\n",
       "    <tr>\n",
       "      <th>2</th>\n",
       "      <td>LP001005</td>\n",
       "      <td>Male</td>\n",
       "      <td>Yes</td>\n",
       "      <td>0</td>\n",
       "      <td>Graduate</td>\n",
       "      <td>Yes</td>\n",
       "      <td>3000</td>\n",
       "      <td>0.0</td>\n",
       "      <td>66.0</td>\n",
       "      <td>360.0</td>\n",
       "      <td>1.0</td>\n",
       "      <td>Urban</td>\n",
       "      <td>Y</td>\n",
       "    </tr>\n",
       "    <tr>\n",
       "      <th>3</th>\n",
       "      <td>LP001006</td>\n",
       "      <td>Male</td>\n",
       "      <td>Yes</td>\n",
       "      <td>0</td>\n",
       "      <td>Not Graduate</td>\n",
       "      <td>No</td>\n",
       "      <td>2583</td>\n",
       "      <td>2358.0</td>\n",
       "      <td>120.0</td>\n",
       "      <td>360.0</td>\n",
       "      <td>1.0</td>\n",
       "      <td>Urban</td>\n",
       "      <td>Y</td>\n",
       "    </tr>\n",
       "    <tr>\n",
       "      <th>4</th>\n",
       "      <td>LP001008</td>\n",
       "      <td>Male</td>\n",
       "      <td>No</td>\n",
       "      <td>0</td>\n",
       "      <td>Graduate</td>\n",
       "      <td>No</td>\n",
       "      <td>6000</td>\n",
       "      <td>0.0</td>\n",
       "      <td>141.0</td>\n",
       "      <td>360.0</td>\n",
       "      <td>1.0</td>\n",
       "      <td>Urban</td>\n",
       "      <td>Y</td>\n",
       "    </tr>\n",
       "  </tbody>\n",
       "</table>\n",
       "</div>"
      ],
      "text/plain": [
       "    Loan_ID Gender Married Dependents     Education Self_Employed  \\\n",
       "0  LP001002   Male      No          0      Graduate            No   \n",
       "1  LP001003   Male     Yes          1      Graduate            No   \n",
       "2  LP001005   Male     Yes          0      Graduate           Yes   \n",
       "3  LP001006   Male     Yes          0  Not Graduate            No   \n",
       "4  LP001008   Male      No          0      Graduate            No   \n",
       "\n",
       "   ApplicantIncome  CoapplicantIncome  LoanAmount  Loan_Amount_Term  \\\n",
       "0             5849                0.0         NaN             360.0   \n",
       "1             4583             1508.0       128.0             360.0   \n",
       "2             3000                0.0        66.0             360.0   \n",
       "3             2583             2358.0       120.0             360.0   \n",
       "4             6000                0.0       141.0             360.0   \n",
       "\n",
       "   Credit_History Property_Area Loan_Status  \n",
       "0             1.0         Urban           Y  \n",
       "1             1.0         Rural           N  \n",
       "2             1.0         Urban           Y  \n",
       "3             1.0         Urban           Y  \n",
       "4             1.0         Urban           Y  "
      ]
     },
     "execution_count": 223,
     "metadata": {},
     "output_type": "execute_result"
    }
   ],
   "source": [
    "loan_df.head()"
   ]
  },
  {
   "cell_type": "code",
   "execution_count": 224,
   "id": "f8701731",
   "metadata": {},
   "outputs": [
    {
     "name": "stdout",
     "output_type": "stream",
     "text": [
      "<class 'pandas.core.frame.DataFrame'>\n",
      "RangeIndex: 614 entries, 0 to 613\n",
      "Data columns (total 13 columns):\n",
      " #   Column             Non-Null Count  Dtype  \n",
      "---  ------             --------------  -----  \n",
      " 0   Loan_ID            614 non-null    object \n",
      " 1   Gender             601 non-null    object \n",
      " 2   Married            611 non-null    object \n",
      " 3   Dependents         599 non-null    object \n",
      " 4   Education          614 non-null    object \n",
      " 5   Self_Employed      582 non-null    object \n",
      " 6   ApplicantIncome    614 non-null    int64  \n",
      " 7   CoapplicantIncome  614 non-null    float64\n",
      " 8   LoanAmount         592 non-null    float64\n",
      " 9   Loan_Amount_Term   600 non-null    float64\n",
      " 10  Credit_History     564 non-null    float64\n",
      " 11  Property_Area      614 non-null    object \n",
      " 12  Loan_Status        614 non-null    object \n",
      "dtypes: float64(4), int64(1), object(8)\n",
      "memory usage: 62.5+ KB\n"
     ]
    }
   ],
   "source": [
    "loan_df.info()"
   ]
  },
  {
   "cell_type": "code",
   "execution_count": 225,
   "id": "bcb700f0",
   "metadata": {},
   "outputs": [
    {
     "data": {
      "text/html": [
       "<div>\n",
       "<style scoped>\n",
       "    .dataframe tbody tr th:only-of-type {\n",
       "        vertical-align: middle;\n",
       "    }\n",
       "\n",
       "    .dataframe tbody tr th {\n",
       "        vertical-align: top;\n",
       "    }\n",
       "\n",
       "    .dataframe thead th {\n",
       "        text-align: right;\n",
       "    }\n",
       "</style>\n",
       "<table border=\"1\" class=\"dataframe\">\n",
       "  <thead>\n",
       "    <tr style=\"text-align: right;\">\n",
       "      <th></th>\n",
       "      <th>ApplicantIncome</th>\n",
       "      <th>CoapplicantIncome</th>\n",
       "      <th>LoanAmount</th>\n",
       "      <th>Loan_Amount_Term</th>\n",
       "      <th>Credit_History</th>\n",
       "    </tr>\n",
       "  </thead>\n",
       "  <tbody>\n",
       "    <tr>\n",
       "      <th>count</th>\n",
       "      <td>614.000000</td>\n",
       "      <td>614.000000</td>\n",
       "      <td>592.000000</td>\n",
       "      <td>600.00000</td>\n",
       "      <td>564.000000</td>\n",
       "    </tr>\n",
       "    <tr>\n",
       "      <th>mean</th>\n",
       "      <td>5403.459283</td>\n",
       "      <td>1621.245798</td>\n",
       "      <td>146.412162</td>\n",
       "      <td>342.00000</td>\n",
       "      <td>0.842199</td>\n",
       "    </tr>\n",
       "    <tr>\n",
       "      <th>std</th>\n",
       "      <td>6109.041673</td>\n",
       "      <td>2926.248369</td>\n",
       "      <td>85.587325</td>\n",
       "      <td>65.12041</td>\n",
       "      <td>0.364878</td>\n",
       "    </tr>\n",
       "    <tr>\n",
       "      <th>min</th>\n",
       "      <td>150.000000</td>\n",
       "      <td>0.000000</td>\n",
       "      <td>9.000000</td>\n",
       "      <td>12.00000</td>\n",
       "      <td>0.000000</td>\n",
       "    </tr>\n",
       "    <tr>\n",
       "      <th>25%</th>\n",
       "      <td>2877.500000</td>\n",
       "      <td>0.000000</td>\n",
       "      <td>100.000000</td>\n",
       "      <td>360.00000</td>\n",
       "      <td>1.000000</td>\n",
       "    </tr>\n",
       "    <tr>\n",
       "      <th>50%</th>\n",
       "      <td>3812.500000</td>\n",
       "      <td>1188.500000</td>\n",
       "      <td>128.000000</td>\n",
       "      <td>360.00000</td>\n",
       "      <td>1.000000</td>\n",
       "    </tr>\n",
       "    <tr>\n",
       "      <th>75%</th>\n",
       "      <td>5795.000000</td>\n",
       "      <td>2297.250000</td>\n",
       "      <td>168.000000</td>\n",
       "      <td>360.00000</td>\n",
       "      <td>1.000000</td>\n",
       "    </tr>\n",
       "    <tr>\n",
       "      <th>max</th>\n",
       "      <td>81000.000000</td>\n",
       "      <td>41667.000000</td>\n",
       "      <td>700.000000</td>\n",
       "      <td>480.00000</td>\n",
       "      <td>1.000000</td>\n",
       "    </tr>\n",
       "  </tbody>\n",
       "</table>\n",
       "</div>"
      ],
      "text/plain": [
       "       ApplicantIncome  CoapplicantIncome  LoanAmount  Loan_Amount_Term  \\\n",
       "count       614.000000         614.000000  592.000000         600.00000   \n",
       "mean       5403.459283        1621.245798  146.412162         342.00000   \n",
       "std        6109.041673        2926.248369   85.587325          65.12041   \n",
       "min         150.000000           0.000000    9.000000          12.00000   \n",
       "25%        2877.500000           0.000000  100.000000         360.00000   \n",
       "50%        3812.500000        1188.500000  128.000000         360.00000   \n",
       "75%        5795.000000        2297.250000  168.000000         360.00000   \n",
       "max       81000.000000       41667.000000  700.000000         480.00000   \n",
       "\n",
       "       Credit_History  \n",
       "count      564.000000  \n",
       "mean         0.842199  \n",
       "std          0.364878  \n",
       "min          0.000000  \n",
       "25%          1.000000  \n",
       "50%          1.000000  \n",
       "75%          1.000000  \n",
       "max          1.000000  "
      ]
     },
     "execution_count": 225,
     "metadata": {},
     "output_type": "execute_result"
    }
   ],
   "source": [
    "loan_df.describe()"
   ]
  },
  {
   "cell_type": "code",
   "execution_count": 226,
   "id": "0848e607",
   "metadata": {},
   "outputs": [
    {
     "data": {
      "text/html": [
       "<div>\n",
       "<style scoped>\n",
       "    .dataframe tbody tr th:only-of-type {\n",
       "        vertical-align: middle;\n",
       "    }\n",
       "\n",
       "    .dataframe tbody tr th {\n",
       "        vertical-align: top;\n",
       "    }\n",
       "\n",
       "    .dataframe thead th {\n",
       "        text-align: right;\n",
       "    }\n",
       "</style>\n",
       "<table border=\"1\" class=\"dataframe\">\n",
       "  <thead>\n",
       "    <tr style=\"text-align: right;\">\n",
       "      <th></th>\n",
       "      <th>Loan_ID</th>\n",
       "      <th>Gender</th>\n",
       "      <th>Married</th>\n",
       "      <th>Dependents</th>\n",
       "      <th>Education</th>\n",
       "      <th>Self_Employed</th>\n",
       "      <th>Property_Area</th>\n",
       "      <th>Loan_Status</th>\n",
       "    </tr>\n",
       "  </thead>\n",
       "  <tbody>\n",
       "    <tr>\n",
       "      <th>count</th>\n",
       "      <td>614</td>\n",
       "      <td>601</td>\n",
       "      <td>611</td>\n",
       "      <td>599</td>\n",
       "      <td>614</td>\n",
       "      <td>582</td>\n",
       "      <td>614</td>\n",
       "      <td>614</td>\n",
       "    </tr>\n",
       "    <tr>\n",
       "      <th>unique</th>\n",
       "      <td>614</td>\n",
       "      <td>2</td>\n",
       "      <td>2</td>\n",
       "      <td>4</td>\n",
       "      <td>2</td>\n",
       "      <td>2</td>\n",
       "      <td>3</td>\n",
       "      <td>2</td>\n",
       "    </tr>\n",
       "    <tr>\n",
       "      <th>top</th>\n",
       "      <td>LP001002</td>\n",
       "      <td>Male</td>\n",
       "      <td>Yes</td>\n",
       "      <td>0</td>\n",
       "      <td>Graduate</td>\n",
       "      <td>No</td>\n",
       "      <td>Semiurban</td>\n",
       "      <td>Y</td>\n",
       "    </tr>\n",
       "    <tr>\n",
       "      <th>freq</th>\n",
       "      <td>1</td>\n",
       "      <td>489</td>\n",
       "      <td>398</td>\n",
       "      <td>345</td>\n",
       "      <td>480</td>\n",
       "      <td>500</td>\n",
       "      <td>233</td>\n",
       "      <td>422</td>\n",
       "    </tr>\n",
       "  </tbody>\n",
       "</table>\n",
       "</div>"
      ],
      "text/plain": [
       "         Loan_ID Gender Married Dependents Education Self_Employed  \\\n",
       "count        614    601     611        599       614           582   \n",
       "unique       614      2       2          4         2             2   \n",
       "top     LP001002   Male     Yes          0  Graduate            No   \n",
       "freq           1    489     398        345       480           500   \n",
       "\n",
       "       Property_Area Loan_Status  \n",
       "count            614         614  \n",
       "unique             3           2  \n",
       "top        Semiurban           Y  \n",
       "freq             233         422  "
      ]
     },
     "execution_count": 226,
     "metadata": {},
     "output_type": "execute_result"
    }
   ],
   "source": [
    "#changing the data of credit history to categorical\n",
    "loan_df.describe(include = 'O')"
   ]
  },
  {
   "cell_type": "code",
   "execution_count": 227,
   "id": "052ff6d4",
   "metadata": {},
   "outputs": [],
   "source": [
    "#dropping loan_id because it doesnt add any necessary information for our model\n",
    "loan_df.drop(columns = ['Loan_ID'], axis = 1, inplace=True)"
   ]
  },
  {
   "cell_type": "markdown",
   "id": "183d6036",
   "metadata": {},
   "source": [
    "## Exploratory Data Analysis"
   ]
  },
  {
   "cell_type": "code",
   "execution_count": 228,
   "id": "84f44007",
   "metadata": {},
   "outputs": [
    {
     "data": {
      "text/plain": [
       "<seaborn.axisgrid.FacetGrid at 0x7f9df707dbb0>"
      ]
     },
     "execution_count": 228,
     "metadata": {},
     "output_type": "execute_result"
    },
    {
     "data": {
      "image/png": "[encoded data removed]",
      "text/plain": [
       "<Figure size 737.28x230.4 with 2 Axes>"
      ]
     },
     "metadata": {
      "needs_background": "light"
     },
     "output_type": "display_data"
    }
   ],
   "source": [
    "grid = sns.FacetGrid(loan_df, col = 'Loan_Status', size = 3.2, aspect = 1.6)\n",
    "grid.map(sns.countplot, 'Credit_History')"
   ]
  },
  {
   "cell_type": "markdown",
   "id": "931a46f3",
   "metadata": {},
   "source": [
    "We can observe that, people with credit history as 1, have more chances to get their loans approved."
   ]
  },
  {
   "cell_type": "code",
   "execution_count": 229,
   "id": "00bcacf8",
   "metadata": {},
   "outputs": [
    {
     "data": {
      "text/plain": [
       "<seaborn.axisgrid.FacetGrid at 0x7f9df707d7f0>"
      ]
     },
     "execution_count": 229,
     "metadata": {},
     "output_type": "execute_result"
    },
    {
     "data": {
      "image/png": "[encoded data removed]",
      "text/plain": [
       "<Figure size 737.28x230.4 with 2 Axes>"
      ]
     },
     "metadata": {
      "needs_background": "light"
     },
     "output_type": "display_data"
    }
   ],
   "source": [
    "#Gender\n",
    "grid = sns.FacetGrid(loan_df, col = 'Loan_Status', size = 3.2, aspect = 1.6)\n",
    "grid.map(sns.countplot, 'Gender')"
   ]
  },
  {
   "cell_type": "markdown",
   "id": "f602ea48",
   "metadata": {},
   "source": [
    "Males have got a higher chances, of getting their loan approved."
   ]
  },
  {
   "cell_type": "code",
   "execution_count": 230,
   "id": "7bde2391",
   "metadata": {},
   "outputs": [
    {
     "data": {
      "text/plain": [
       "<AxesSubplot:xlabel='Married', ylabel='count'>"
      ]
     },
     "execution_count": 230,
     "metadata": {},
     "output_type": "execute_result"
    },
    {
     "data": {
      "image/png": "[encoded data removed]",
      "text/plain": [
       "<Figure size 1080x360 with 1 Axes>"
      ]
     },
     "metadata": {
      "needs_background": "light"
     },
     "output_type": "display_data"
    }
   ],
   "source": [
    "#Married \n",
    "plt.figure(figsize = (15,5))\n",
    "sns.countplot('Married', hue = 'Loan_Status', data = loan_df)"
   ]
  },
  {
   "cell_type": "markdown",
   "id": "f6a1e0ff",
   "metadata": {},
   "source": [
    "If you are married, you have higher chances of getting the loan."
   ]
  },
  {
   "cell_type": "code",
   "execution_count": 231,
   "id": "ea46df92",
   "metadata": {},
   "outputs": [
    {
     "data": {
      "text/plain": [
       "<AxesSubplot:xlabel='Dependents', ylabel='count'>"
      ]
     },
     "execution_count": 231,
     "metadata": {},
     "output_type": "execute_result"
    },
    {
     "data": {
      "image/png": "[encoded data removed]",
      "text/plain": [
       "<Figure size 1080x360 with 1 Axes>"
      ]
     },
     "metadata": {
      "needs_background": "light"
     },
     "output_type": "display_data"
    }
   ],
   "source": [
    "#Dependents\n",
    "plt.figure(figsize=(15,5))\n",
    "sns.countplot('Dependents', hue = 'Loan_Status', data = loan_df)"
   ]
  },
  {
   "cell_type": "markdown",
   "id": "a2a33871",
   "metadata": {},
   "source": [
    "Dependents with value 0 have got higher chances of getting their loan approved."
   ]
  },
  {
   "cell_type": "code",
   "execution_count": 232,
   "id": "d160e755",
   "metadata": {},
   "outputs": [
    {
     "data": {
      "text/plain": [
       "<seaborn.axisgrid.FacetGrid at 0x7f9e213dbb20>"
      ]
     },
     "execution_count": 232,
     "metadata": {},
     "output_type": "execute_result"
    },
    {
     "data": {
      "image/png": "[encoded data removed]",
      "text/plain": [
       "<Figure size 737.28x230.4 with 2 Axes>"
      ]
     },
     "metadata": {
      "needs_background": "light"
     },
     "output_type": "display_data"
    }
   ],
   "source": [
    "#Education\n",
    "grid = sns.FacetGrid(loan_df, col = 'Loan_Status',size = 3.2, aspect = 1.6)\n",
    "grid.map(sns.countplot, 'Education')"
   ]
  },
  {
   "cell_type": "markdown",
   "id": "b7d468d1",
   "metadata": {},
   "source": [
    "Chances are that if you are educated, you will most likely get your loan approved, but there is not such a huge difference, with the uneducated people as well. "
   ]
  },
  {
   "cell_type": "code",
   "execution_count": 233,
   "id": "72ffee3f",
   "metadata": {},
   "outputs": [
    {
     "data": {
      "text/plain": [
       "<seaborn.axisgrid.FacetGrid at 0x7f9df7cd3640>"
      ]
     },
     "execution_count": 233,
     "metadata": {},
     "output_type": "execute_result"
    },
    {
     "data": {
      "image/png": "[encoded data removed]",
      "text/plain": [
       "<Figure size 737.28x230.4 with 2 Axes>"
      ]
     },
     "metadata": {
      "needs_background": "light"
     },
     "output_type": "display_data"
    }
   ],
   "source": [
    "#Self Employed\n",
    "grid = sns.FacetGrid(loan_df, col = 'Loan_Status', size = 3.2, aspect = 1.6)\n",
    "grid.map(sns.countplot, 'Self_Employed')"
   ]
  },
  {
   "cell_type": "markdown",
   "id": "09055fc5",
   "metadata": {},
   "source": [
    "Not a significant pattern"
   ]
  },
  {
   "cell_type": "code",
   "execution_count": 234,
   "id": "a17b83f6",
   "metadata": {},
   "outputs": [
    {
     "data": {
      "text/plain": [
       "<AxesSubplot:xlabel='Property_Area', ylabel='count'>"
      ]
     },
     "execution_count": 234,
     "metadata": {},
     "output_type": "execute_result"
    },
    {
     "data": {
      "image/png": "[encoded data removed]",
      "text/plain": [
       "<Figure size 1080x360 with 1 Axes>"
      ]
     },
     "metadata": {
      "needs_background": "light"
     },
     "output_type": "display_data"
    }
   ],
   "source": [
    "#Property area\n",
    "plt.figure(figsize=(15,5))\n",
    "sns.countplot('Property_Area', hue = 'Loan_Status', data = loan_df)"
   ]
  },
  {
   "cell_type": "markdown",
   "id": "1cb9ba33",
   "metadata": {},
   "source": [
    "Based on the observations, we can see, that semiurban areas are the most favored areas to approve the loan."
   ]
  },
  {
   "cell_type": "code",
   "execution_count": 235,
   "id": "7d65082a",
   "metadata": {},
   "outputs": [
    {
     "data": {
      "text/plain": [
       "<AxesSubplot:xlabel='ApplicantIncome', ylabel='Loan_Status'>"
      ]
     },
     "execution_count": 235,
     "metadata": {},
     "output_type": "execute_result"
    },
    {
     "data": {
      "image/png": "[encoded data removed]",
      "text/plain": [
       "<Figure size 432x288 with 1 Axes>"
      ]
     },
     "metadata": {
      "needs_background": "light"
     },
     "output_type": "display_data"
    }
   ],
   "source": [
    "#Relationships between target variable and independent variables\n",
    "sns.scatterplot(loan_df['ApplicantIncome'], loan_df['Loan_Status'])"
   ]
  },
  {
   "cell_type": "code",
   "execution_count": 236,
   "id": "4f552002",
   "metadata": {},
   "outputs": [
    {
     "data": {
      "text/plain": [
       "<AxesSubplot:xlabel='CoapplicantIncome', ylabel='Loan_Status'>"
      ]
     },
     "execution_count": 236,
     "metadata": {},
     "output_type": "execute_result"
    },
    {
     "data": {
      "image/png": "[encoded data removed]",
      "text/plain": [
       "<Figure size 432x288 with 1 Axes>"
      ]
     },
     "metadata": {
      "needs_background": "light"
     },
     "output_type": "display_data"
    }
   ],
   "source": [
    "sns.scatterplot(loan_df['CoapplicantIncome'], loan_df['Loan_Status'])"
   ]
  },
  {
   "cell_type": "code",
   "execution_count": 237,
   "id": "b96c587e",
   "metadata": {},
   "outputs": [
    {
     "data": {
      "text/plain": [
       "Gender               13\n",
       "Married               3\n",
       "Dependents           15\n",
       "Education             0\n",
       "Self_Employed        32\n",
       "ApplicantIncome       0\n",
       "CoapplicantIncome     0\n",
       "LoanAmount           22\n",
       "Loan_Amount_Term     14\n",
       "Credit_History       50\n",
       "Property_Area         0\n",
       "Loan_Status           0\n",
       "dtype: int64"
      ]
     },
     "execution_count": 237,
     "metadata": {},
     "output_type": "execute_result"
    }
   ],
   "source": [
    "#Missing values\n",
    "loan_df.isnull().sum()"
   ]
  },
  {
   "cell_type": "code",
   "execution_count": 238,
   "id": "cbe95aa6",
   "metadata": {},
   "outputs": [
    {
     "name": "stdout",
     "output_type": "stream",
     "text": [
      "<class 'pandas.core.frame.DataFrame'>\n",
      "RangeIndex: 614 entries, 0 to 613\n",
      "Data columns (total 12 columns):\n",
      " #   Column             Non-Null Count  Dtype  \n",
      "---  ------             --------------  -----  \n",
      " 0   Gender             601 non-null    object \n",
      " 1   Married            611 non-null    object \n",
      " 2   Dependents         599 non-null    object \n",
      " 3   Education          614 non-null    object \n",
      " 4   Self_Employed      582 non-null    object \n",
      " 5   ApplicantIncome    614 non-null    int64  \n",
      " 6   CoapplicantIncome  614 non-null    float64\n",
      " 7   LoanAmount         592 non-null    float64\n",
      " 8   Loan_Amount_Term   600 non-null    float64\n",
      " 9   Credit_History     564 non-null    float64\n",
      " 10  Property_Area      614 non-null    object \n",
      " 11  Loan_Status        614 non-null    object \n",
      "dtypes: float64(4), int64(1), object(7)\n",
      "memory usage: 57.7+ KB\n"
     ]
    }
   ],
   "source": [
    "loan_df.info()"
   ]
  },
  {
   "cell_type": "code",
   "execution_count": 239,
   "id": "98a52d4a",
   "metadata": {},
   "outputs": [],
   "source": [
    "#categorical values gender, married, dependents, self_employed need to fill null values with mode\n",
    "#numerical values loan amound, loan amount term and credit history will have them fill with mean\n",
    "#In our interest since credit history takes only values 0 and 1 its better to transform it into categorical and \n",
    "#fill the null values with the mode\n",
    "\n",
    "loan_df['Credit_History'] = loan_df['Credit_History'].astype('O')"
   ]
  },
  {
   "cell_type": "code",
   "execution_count": 240,
   "id": "4d236fab",
   "metadata": {},
   "outputs": [
    {
     "name": "stdout",
     "output_type": "stream",
     "text": [
      "<class 'pandas.core.frame.DataFrame'>\n",
      "RangeIndex: 614 entries, 0 to 613\n",
      "Data columns (total 12 columns):\n",
      " #   Column             Non-Null Count  Dtype  \n",
      "---  ------             --------------  -----  \n",
      " 0   Gender             601 non-null    object \n",
      " 1   Married            611 non-null    object \n",
      " 2   Dependents         599 non-null    object \n",
      " 3   Education          614 non-null    object \n",
      " 4   Self_Employed      582 non-null    object \n",
      " 5   ApplicantIncome    614 non-null    int64  \n",
      " 6   CoapplicantIncome  614 non-null    float64\n",
      " 7   LoanAmount         592 non-null    float64\n",
      " 8   Loan_Amount_Term   600 non-null    float64\n",
      " 9   Credit_History     564 non-null    object \n",
      " 10  Property_Area      614 non-null    object \n",
      " 11  Loan_Status        614 non-null    object \n",
      "dtypes: float64(3), int64(1), object(8)\n",
      "memory usage: 57.7+ KB\n"
     ]
    }
   ],
   "source": [
    "loan_df.info()"
   ]
  },
  {
   "cell_type": "code",
   "execution_count": 241,
   "id": "97e5dbec",
   "metadata": {},
   "outputs": [],
   "source": [
    "cat_null = ['Gender', 'Married','Dependents','Self_Employed','Credit_History']\n",
    "num_null = ['LoanAmount','Loan_Amount_Term']"
   ]
  },
  {
   "cell_type": "code",
   "execution_count": 242,
   "id": "8115c15c",
   "metadata": {},
   "outputs": [],
   "source": [
    "#loan_df['Gender'].mode()[0]"
   ]
  },
  {
   "cell_type": "code",
   "execution_count": 243,
   "id": "20925528",
   "metadata": {},
   "outputs": [],
   "source": [
    "for i in cat_null:\n",
    "    loan_df[i] = loan_df[i].fillna(loan_df[i].mode()[0])"
   ]
  },
  {
   "cell_type": "code",
   "execution_count": 244,
   "id": "49713d0d",
   "metadata": {},
   "outputs": [],
   "source": [
    "for i in num_null:\n",
    "    loan_df[i] = loan_df[i].fillna(loan_df[i].mean())"
   ]
  },
  {
   "cell_type": "code",
   "execution_count": 245,
   "id": "ac924d61",
   "metadata": {},
   "outputs": [
    {
     "data": {
      "text/plain": [
       "Gender               0\n",
       "Married              0\n",
       "Dependents           0\n",
       "Education            0\n",
       "Self_Employed        0\n",
       "ApplicantIncome      0\n",
       "CoapplicantIncome    0\n",
       "LoanAmount           0\n",
       "Loan_Amount_Term     0\n",
       "Credit_History       0\n",
       "Property_Area        0\n",
       "Loan_Status          0\n",
       "dtype: int64"
      ]
     },
     "execution_count": 245,
     "metadata": {},
     "output_type": "execute_result"
    }
   ],
   "source": [
    "loan_df.isnull().sum() #no missing values now"
   ]
  },
  {
   "cell_type": "code",
   "execution_count": 246,
   "id": "2881129f",
   "metadata": {},
   "outputs": [
    {
     "data": {
      "image/png": "[encoded data removed]",
      "text/plain": [
       "<Figure size 1440x360 with 5 Axes>"
      ]
     },
     "metadata": {
      "needs_background": "light"
     },
     "output_type": "display_data"
    }
   ],
   "source": [
    "index = 0\n",
    "\n",
    "ncols = [x for x in loan_df.columns if loan_df.dtypes[x] != 'object']\n",
    "length_ncols_numbers = len(ncols)\n",
    "fig, ax = plt.subplots(nrows = 1, ncols = length_ncols_numbers, figsize = (20,5))\n",
    "\n",
    "for x in loan_df.columns:\n",
    "    if(loan_df.dtypes[x] != 'object'):\n",
    "        sns.distplot(loan_df[x], ax = ax[index])\n",
    "        index += 1\n",
    "plt.tight_layout(pad=0.4, w_pad=0.5, h_pad=5.0) "
   ]
  },
  {
   "cell_type": "code",
   "execution_count": 247,
   "id": "524879cc",
   "metadata": {},
   "outputs": [
    {
     "name": "stdout",
     "output_type": "stream",
     "text": [
      "Outliers of  ApplicantIncome  are:  8.14 %\n",
      "Outliers of  CoapplicantIncome  are:  2.93 %\n",
      "Outliers of  LoanAmount  are:  6.68 %\n",
      "Outliers of  Loan_Amount_Term  are:  100.0 %\n"
     ]
    }
   ],
   "source": [
    "df = loan_df[['ApplicantIncome','CoapplicantIncome','LoanAmount','Loan_Amount_Term']]\n",
    "\n",
    "for k, v in df.items():\n",
    "\n",
    "    q1 = v.quantile(0.25)\n",
    "    q3 = v.quantile(0.75)\n",
    "    \n",
    "    iqr = q3 - q1\n",
    "    \n",
    "    v_col = v[(v<= (q1 - (1.5 * iqr))) | (v >= (q3 + (1.5 * iqr)))]\n",
    "    \n",
    "    percentage = (v_col.shape[0] * 100) / df.shape[0]\n",
    "    \n",
    "    print(\"Outliers of \",k,\" are: \",round(percentage,2),\"%\")"
   ]
  },
  {
   "cell_type": "code",
   "execution_count": 248,
   "id": "41043190",
   "metadata": {},
   "outputs": [
    {
     "data": {
      "image/png": "[encoded data removed]",
      "text/plain": [
       "<Figure size 1440x288 with 2 Axes>"
      ]
     },
     "metadata": {
      "needs_background": "light"
     },
     "output_type": "display_data"
    }
   ],
   "source": [
    "# we basically need to remove the outliers from those columns\n",
    "\n",
    "#ApplicantIncome\n",
    "plt.figure(figsize=(20,4))\n",
    "\n",
    "plt.subplot(1,2,1)\n",
    "sns.boxplot(loan_df['ApplicantIncome'])\n",
    "plt.title('Box Plot of Applicant Income')\n",
    "\n",
    "\n",
    "plt.subplot(1,2,2)\n",
    "sns.distplot(loan_df['ApplicantIncome'])\n",
    "plt.title('Distribution Plot of Applicant Income')\n",
    "\n",
    "plt.show()\n",
    "\n"
   ]
  },
  {
   "cell_type": "code",
   "execution_count": 249,
   "id": "8627d283",
   "metadata": {},
   "outputs": [
    {
     "data": {
      "text/plain": [
       "10171.25"
      ]
     },
     "execution_count": 249,
     "metadata": {},
     "output_type": "execute_result"
    }
   ],
   "source": [
    "q1 = loan_df['ApplicantIncome'].quantile(0.25)\n",
    "q3 = loan_df['ApplicantIncome'].quantile(0.75)\n",
    "\n",
    "\n",
    "IQR = q3 - q1\n",
    "\n",
    "\n",
    "AI_1 = q1 - 1.5 * IQR\n",
    "AI_3 = q3 + 1.5 * IQR\n",
    "\n",
    "\n",
    "loan_df[loan_df['ApplicantIncome'] < AI_1] #no data\n",
    "\n",
    "AI_3"
   ]
  },
  {
   "cell_type": "code",
   "execution_count": 250,
   "id": "b5980c69",
   "metadata": {},
   "outputs": [
    {
     "data": {
      "text/plain": [
       "10408    1\n",
       "10416    1\n",
       "10513    1\n",
       "10750    1\n",
       "10833    1\n",
       "11000    1\n",
       "11146    1\n",
       "11250    1\n",
       "11417    1\n",
       "11500    1\n",
       "11757    1\n",
       "12000    2\n",
       "12500    1\n",
       "12841    1\n",
       "12876    1\n",
       "13262    1\n",
       "13650    1\n",
       "14583    2\n",
       "14683    1\n",
       "14866    1\n",
       "14880    1\n",
       "14999    1\n",
       "15000    1\n",
       "15759    1\n",
       "16120    1\n",
       "16250    1\n",
       "16525    1\n",
       "16666    1\n",
       "16667    1\n",
       "16692    1\n",
       "17263    1\n",
       "17500    1\n",
       "18165    1\n",
       "18333    1\n",
       "19484    1\n",
       "19730    1\n",
       "20166    1\n",
       "20233    1\n",
       "20667    1\n",
       "20833    1\n",
       "23803    1\n",
       "33846    1\n",
       "37719    1\n",
       "39147    1\n",
       "39999    1\n",
       "51763    1\n",
       "63337    1\n",
       "81000    1\n",
       "Name: ApplicantIncome, dtype: int64"
      ]
     },
     "execution_count": 250,
     "metadata": {},
     "output_type": "execute_result"
    }
   ],
   "source": [
    "loan_df[loan_df['ApplicantIncome']>AI_3]['ApplicantIncome'].value_counts().sort_index() #range is from 10408 - 81000"
   ]
  },
  {
   "cell_type": "code",
   "execution_count": 251,
   "id": "912efb3f",
   "metadata": {},
   "outputs": [],
   "source": [
    "#dropping values from 10408 - 81000\n",
    "\n",
    "loan_df = loan_df[~(loan_df['ApplicantIncome'] >= 10408)]"
   ]
  },
  {
   "cell_type": "code",
   "execution_count": 252,
   "id": "66517d61",
   "metadata": {},
   "outputs": [
    {
     "data": {
      "image/png": "[encoded data removed]",
      "text/plain": [
       "<Figure size 1440x288 with 2 Axes>"
      ]
     },
     "metadata": {
      "needs_background": "light"
     },
     "output_type": "display_data"
    }
   ],
   "source": [
    "#CoapplicantIncome\n",
    "\n",
    "\n",
    "# we basically need to remove the outliers from those columns\n",
    "\n",
    "\n",
    "plt.figure(figsize=(20,4))\n",
    "\n",
    "plt.subplot(1,2,1)\n",
    "sns.boxplot(loan_df['CoapplicantIncome'])\n",
    "plt.title('Box Plot of Co Applicant Income')\n",
    "\n",
    "\n",
    "plt.subplot(1,2,2)\n",
    "sns.distplot(loan_df['CoapplicantIncome'])\n",
    "plt.title('Distribution Plot of Co Applicant Income')\n",
    "\n",
    "plt.show()"
   ]
  },
  {
   "cell_type": "code",
   "execution_count": 253,
   "id": "93fe6e54",
   "metadata": {},
   "outputs": [],
   "source": [
    "q1 = loan_df['CoapplicantIncome'].quantile(0.25)\n",
    "q3 = loan_df['CoapplicantIncome'].quantile(0.75)\n",
    "\n",
    "\n",
    "IQR = q3 - q1\n",
    "\n",
    "\n",
    "AI_1 = q1 - 1.5 * IQR\n",
    "AI_3 = q3 + 1.5 * IQR\n",
    "\n",
    "\n",
    "loan_df[loan_df['CoapplicantIncome'] > AI_3]['CoapplicantIncome'].value_counts().sort_index() #no data\n",
    "\n",
    "loan_df = loan_df[~(loan_df['CoapplicantIncome'] >= 6250)]"
   ]
  },
  {
   "cell_type": "code",
   "execution_count": 254,
   "id": "8f10352a",
   "metadata": {},
   "outputs": [
    {
     "data": {
      "image/png": "[encoded data removed]",
      "text/plain": [
       "<Figure size 1440x288 with 2 Axes>"
      ]
     },
     "metadata": {
      "needs_background": "light"
     },
     "output_type": "display_data"
    }
   ],
   "source": [
    "#Loan Amount\n",
    "\n",
    "plt.figure(figsize=(20,4))\n",
    "\n",
    "plt.subplot(1,2,1)\n",
    "sns.boxplot(loan_df['LoanAmount'])\n",
    "plt.title('Box Plot of Loan Amount')\n",
    "\n",
    "\n",
    "plt.subplot(1,2,2)\n",
    "sns.distplot(loan_df['LoanAmount'])\n",
    "plt.title('Distribution Plot of Loan Amount')\n",
    "\n",
    "plt.show()\n",
    "#It follows a normal distribution, but it would be better to remove outliers left"
   ]
  },
  {
   "cell_type": "code",
   "execution_count": 255,
   "id": "03bc980e",
   "metadata": {},
   "outputs": [],
   "source": [
    "q1 = loan_df['LoanAmount'].quantile(0.25)\n",
    "q3 = loan_df['LoanAmount'].quantile(0.75)\n",
    "\n",
    "\n",
    "IQR = q3 - q1\n",
    "\n",
    "\n",
    "AI_1 = q1 - 1.5 * IQR\n",
    "AI_3 = q3 + 1.5 * IQR\n",
    "\n",
    "\n",
    "loan_df[loan_df['LoanAmount'] > AI_3]['LoanAmount'].value_counts().sort_index() #no data\n",
    "\n",
    "loan_df = loan_df[~(loan_df['LoanAmount'] >= 300)]"
   ]
  },
  {
   "cell_type": "code",
   "execution_count": 260,
   "id": "e89f0f2d",
   "metadata": {},
   "outputs": [
    {
     "data": {
      "image/png": "[encoded data removed]",
      "text/plain": [
       "<Figure size 1440x288 with 2 Axes>"
      ]
     },
     "metadata": {
      "needs_background": "light"
     },
     "output_type": "display_data"
    }
   ],
   "source": [
    "#Loan Amount Term\n",
    "\n",
    "plt.figure(figsize=(20,4))\n",
    "\n",
    "plt.subplot(1,2,1)\n",
    "sns.boxplot(loan_df['Loan_Amount_Term'])\n",
    "plt.title('Box Plot of Loan Amount Term')\n",
    "\n",
    "\n",
    "plt.subplot(1,2,2)\n",
    "sns.distplot(loan_df['Loan_Amount_Term'])\n",
    "plt.title('Distribution Plot of Loan Amount Term')\n",
    "\n",
    "plt.show()"
   ]
  },
  {
   "cell_type": "code",
   "execution_count": 261,
   "id": "36009a1f",
   "metadata": {},
   "outputs": [
    {
     "data": {
      "text/plain": [
       "480.0    14\n",
       "Name: Loan_Amount_Term, dtype: int64"
      ]
     },
     "execution_count": 261,
     "metadata": {},
     "output_type": "execute_result"
    }
   ],
   "source": [
    "q1 = loan_df['Loan_Amount_Term'].quantile(0.25)\n",
    "q3 = loan_df['Loan_Amount_Term'].quantile(0.75)\n",
    "\n",
    "\n",
    "IQR = q3 - q1\n",
    "\n",
    "\n",
    "AI_1 = q1 - 1.5 * IQR\n",
    "AI_3 = q3 + 1.5 * IQR\n",
    "\n",
    "\n",
    "loan_df[loan_df['Loan_Amount_Term'] > AI_3]['Loan_Amount_Term'].value_counts().sort_index() #no data\n",
    "#loan_df[loan_df['Loan_Amount_Term'] < AI_1]['Loan_Amount_Term'].value_counts().sort_index()\n",
    "\n",
    "#loan_df = loan_df[~(loan_df['Loan_Amount_Term'] <= 300)]"
   ]
  },
  {
   "cell_type": "code",
   "execution_count": 262,
   "id": "501ca439",
   "metadata": {},
   "outputs": [],
   "source": [
    "#Encode the loan_status in 0 and 1\n",
    "from sklearn.preprocessing import LabelEncoder\n",
    "le = LabelEncoder()\n",
    "\n",
    "loan_df['Loan_Status'] = le.fit_transform(loan_df['Loan_Status'])"
   ]
  },
  {
   "cell_type": "code",
   "execution_count": 263,
   "id": "346bd8e2",
   "metadata": {},
   "outputs": [],
   "source": [
    "#One hot encoding for categorical variables\n",
    "cols = [x for x in loan_df.columns if loan_df.dtypes[x] == 'object']\n",
    "\n",
    "cols\n",
    "\n",
    "loan_df = pd.get_dummies(loan_df, columns = cols)"
   ]
  },
  {
   "cell_type": "code",
   "execution_count": 266,
   "id": "46504657",
   "metadata": {},
   "outputs": [
    {
     "name": "stdout",
     "output_type": "stream",
     "text": [
      "<class 'pandas.core.frame.DataFrame'>\n",
      "RangeIndex: 614 entries, 0 to 613\n",
      "Data columns (total 4 columns):\n",
      " #   Column             Non-Null Count  Dtype  \n",
      "---  ------             --------------  -----  \n",
      " 0   ApplicantIncome    614 non-null    int64  \n",
      " 1   CoapplicantIncome  614 non-null    float64\n",
      " 2   LoanAmount         614 non-null    float64\n",
      " 3   Loan_Amount_Term   614 non-null    float64\n",
      "dtypes: float64(3), int64(1)\n",
      "memory usage: 19.3 KB\n"
     ]
    }
   ],
   "source": [
    "df.info()"
   ]
  },
  {
   "cell_type": "code",
   "execution_count": 267,
   "id": "aa8d9453",
   "metadata": {},
   "outputs": [],
   "source": [
    "#Standard scaling\n",
    "from sklearn.preprocessing import StandardScaler\n",
    "\n",
    "ss = StandardScaler()\n",
    "\n",
    "cols = df.columns\n",
    "\n",
    "\n",
    "for i in cols:\n",
    "    \n",
    "    loan_df[cols] = ss.fit_transform(loan_df[cols])\n"
   ]
  },
  {
   "cell_type": "code",
   "execution_count": 268,
   "id": "0371b499",
   "metadata": {},
   "outputs": [
    {
     "data": {
      "text/html": [
       "<div>\n",
       "<style scoped>\n",
       "    .dataframe tbody tr th:only-of-type {\n",
       "        vertical-align: middle;\n",
       "    }\n",
       "\n",
       "    .dataframe tbody tr th {\n",
       "        vertical-align: top;\n",
       "    }\n",
       "\n",
       "    .dataframe thead th {\n",
       "        text-align: right;\n",
       "    }\n",
       "</style>\n",
       "<table border=\"1\" class=\"dataframe\">\n",
       "  <thead>\n",
       "    <tr style=\"text-align: right;\">\n",
       "      <th></th>\n",
       "      <th>ApplicantIncome</th>\n",
       "      <th>CoapplicantIncome</th>\n",
       "      <th>LoanAmount</th>\n",
       "      <th>Loan_Amount_Term</th>\n",
       "      <th>Credit_History</th>\n",
       "      <th>Loan_Status</th>\n",
       "      <th>Gender_Female</th>\n",
       "      <th>Gender_Male</th>\n",
       "      <th>Married_No</th>\n",
       "      <th>Married_Yes</th>\n",
       "      <th>...</th>\n",
       "      <th>Dependents_1</th>\n",
       "      <th>Dependents_2</th>\n",
       "      <th>Dependents_3+</th>\n",
       "      <th>Education_Graduate</th>\n",
       "      <th>Education_Not Graduate</th>\n",
       "      <th>Self_Employed_No</th>\n",
       "      <th>Self_Employed_Yes</th>\n",
       "      <th>Property_Area_Rural</th>\n",
       "      <th>Property_Area_Semiurban</th>\n",
       "      <th>Property_Area_Urban</th>\n",
       "    </tr>\n",
       "  </thead>\n",
       "  <tbody>\n",
       "    <tr>\n",
       "      <th>0</th>\n",
       "      <td>0.953208</td>\n",
       "      <td>-0.944665</td>\n",
       "      <td>0.326612</td>\n",
       "      <td>-0.145062</td>\n",
       "      <td>1.0</td>\n",
       "      <td>1</td>\n",
       "      <td>0</td>\n",
       "      <td>1</td>\n",
       "      <td>1</td>\n",
       "      <td>0</td>\n",
       "      <td>...</td>\n",
       "      <td>0</td>\n",
       "      <td>0</td>\n",
       "      <td>0</td>\n",
       "      <td>1</td>\n",
       "      <td>0</td>\n",
       "      <td>1</td>\n",
       "      <td>0</td>\n",
       "      <td>0</td>\n",
       "      <td>0</td>\n",
       "      <td>1</td>\n",
       "    </tr>\n",
       "    <tr>\n",
       "      <th>1</th>\n",
       "      <td>0.274704</td>\n",
       "      <td>0.127564</td>\n",
       "      <td>-0.063365</td>\n",
       "      <td>-0.145062</td>\n",
       "      <td>1.0</td>\n",
       "      <td>0</td>\n",
       "      <td>0</td>\n",
       "      <td>1</td>\n",
       "      <td>0</td>\n",
       "      <td>1</td>\n",
       "      <td>...</td>\n",
       "      <td>1</td>\n",
       "      <td>0</td>\n",
       "      <td>0</td>\n",
       "      <td>1</td>\n",
       "      <td>0</td>\n",
       "      <td>1</td>\n",
       "      <td>0</td>\n",
       "      <td>1</td>\n",
       "      <td>0</td>\n",
       "      <td>0</td>\n",
       "    </tr>\n",
       "    <tr>\n",
       "      <th>2</th>\n",
       "      <td>-0.573694</td>\n",
       "      <td>-0.944665</td>\n",
       "      <td>-1.376552</td>\n",
       "      <td>-0.145062</td>\n",
       "      <td>1.0</td>\n",
       "      <td>1</td>\n",
       "      <td>0</td>\n",
       "      <td>1</td>\n",
       "      <td>0</td>\n",
       "      <td>1</td>\n",
       "      <td>...</td>\n",
       "      <td>0</td>\n",
       "      <td>0</td>\n",
       "      <td>0</td>\n",
       "      <td>1</td>\n",
       "      <td>0</td>\n",
       "      <td>0</td>\n",
       "      <td>1</td>\n",
       "      <td>0</td>\n",
       "      <td>0</td>\n",
       "      <td>1</td>\n",
       "    </tr>\n",
       "    <tr>\n",
       "      <th>3</th>\n",
       "      <td>-0.797182</td>\n",
       "      <td>0.731937</td>\n",
       "      <td>-0.232809</td>\n",
       "      <td>-0.145062</td>\n",
       "      <td>1.0</td>\n",
       "      <td>1</td>\n",
       "      <td>0</td>\n",
       "      <td>1</td>\n",
       "      <td>0</td>\n",
       "      <td>1</td>\n",
       "      <td>...</td>\n",
       "      <td>0</td>\n",
       "      <td>0</td>\n",
       "      <td>0</td>\n",
       "      <td>0</td>\n",
       "      <td>1</td>\n",
       "      <td>1</td>\n",
       "      <td>0</td>\n",
       "      <td>0</td>\n",
       "      <td>0</td>\n",
       "      <td>1</td>\n",
       "    </tr>\n",
       "    <tr>\n",
       "      <th>4</th>\n",
       "      <td>1.034136</td>\n",
       "      <td>-0.944665</td>\n",
       "      <td>0.211981</td>\n",
       "      <td>-0.145062</td>\n",
       "      <td>1.0</td>\n",
       "      <td>1</td>\n",
       "      <td>0</td>\n",
       "      <td>1</td>\n",
       "      <td>1</td>\n",
       "      <td>0</td>\n",
       "      <td>...</td>\n",
       "      <td>0</td>\n",
       "      <td>0</td>\n",
       "      <td>0</td>\n",
       "      <td>1</td>\n",
       "      <td>0</td>\n",
       "      <td>1</td>\n",
       "      <td>0</td>\n",
       "      <td>0</td>\n",
       "      <td>0</td>\n",
       "      <td>1</td>\n",
       "    </tr>\n",
       "  </tbody>\n",
       "</table>\n",
       "<p>5 rows × 21 columns</p>\n",
       "</div>"
      ],
      "text/plain": [
       "   ApplicantIncome  CoapplicantIncome  LoanAmount  Loan_Amount_Term  \\\n",
       "0         0.953208          -0.944665    0.326612         -0.145062   \n",
       "1         0.274704           0.127564   -0.063365         -0.145062   \n",
       "2        -0.573694          -0.944665   -1.376552         -0.145062   \n",
       "3        -0.797182           0.731937   -0.232809         -0.145062   \n",
       "4         1.034136          -0.944665    0.211981         -0.145062   \n",
       "\n",
       "   Credit_History  Loan_Status  Gender_Female  Gender_Male  Married_No  \\\n",
       "0             1.0            1              0            1           1   \n",
       "1             1.0            0              0            1           0   \n",
       "2             1.0            1              0            1           0   \n",
       "3             1.0            1              0            1           0   \n",
       "4             1.0            1              0            1           1   \n",
       "\n",
       "   Married_Yes  ...  Dependents_1  Dependents_2  Dependents_3+  \\\n",
       "0            0  ...             0             0              0   \n",
       "1            1  ...             1             0              0   \n",
       "2            1  ...             0             0              0   \n",
       "3            1  ...             0             0              0   \n",
       "4            0  ...             0             0              0   \n",
       "\n",
       "   Education_Graduate  Education_Not Graduate  Self_Employed_No  \\\n",
       "0                   1                       0                 1   \n",
       "1                   1                       0                 1   \n",
       "2                   1                       0                 0   \n",
       "3                   0                       1                 1   \n",
       "4                   1                       0                 1   \n",
       "\n",
       "   Self_Employed_Yes  Property_Area_Rural  Property_Area_Semiurban  \\\n",
       "0                  0                    0                        0   \n",
       "1                  0                    1                        0   \n",
       "2                  1                    0                        0   \n",
       "3                  0                    0                        0   \n",
       "4                  0                    0                        0   \n",
       "\n",
       "   Property_Area_Urban  \n",
       "0                    1  \n",
       "1                    0  \n",
       "2                    1  \n",
       "3                    1  \n",
       "4                    1  \n",
       "\n",
       "[5 rows x 21 columns]"
      ]
     },
     "execution_count": 268,
     "metadata": {},
     "output_type": "execute_result"
    }
   ],
   "source": [
    "loan_df.head()"
   ]
  },
  {
   "cell_type": "code",
   "execution_count": 269,
   "id": "9969fe26",
   "metadata": {},
   "outputs": [],
   "source": [
    "#Input splitting\n",
    "X = loan_df.drop(columns = ['Loan_Status'], axis = 1)\n",
    "y = loan_df['Loan_Status']"
   ]
  },
  {
   "cell_type": "code",
   "execution_count": 270,
   "id": "ce560d77",
   "metadata": {},
   "outputs": [],
   "source": [
    "from sklearn.model_selection import train_test_split\n",
    "\n",
    "X_train, X_test, y_train, y_test = train_test_split(X,y,test_size = 0.2, random_state=42)"
   ]
  },
  {
   "cell_type": "code",
   "execution_count": 280,
   "id": "c8a17edb",
   "metadata": {},
   "outputs": [],
   "source": [
    "#we will use 4 different models for training\n",
    "from sklearn.linear_model import LogisticRegression\n",
    "from sklearn.neighbors import KNeighborsClassifier\n",
    "from sklearn.svm import SVC\n",
    "from sklearn.tree import DecisionTreeClassifier\n",
    "\n",
    "models = {\n",
    "    'LogisticRegression': LogisticRegression(random_state=42),\n",
    "    'KNeighborsClassifier': KNeighborsClassifier(),\n",
    "    'SVC': SVC(random_state=42),\n",
    "    'DecisionTreeClassifier': DecisionTreeClassifier(max_depth=1, random_state=42)\n",
    "}"
   ]
  },
  {
   "cell_type": "code",
   "execution_count": 287,
   "id": "0fad9f7c",
   "metadata": {},
   "outputs": [],
   "source": [
    "#loss function\n",
    "from sklearn.metrics import precision_score, recall_score, f1_score, log_loss, accuracy_score\n",
    "\n",
    "def loss(y_true, y_pred, retu=False):\n",
    "    pre = precision_score(y_true, y_pred)\n",
    "    rec = recall_score(y_true, y_pred)\n",
    "    f1 = f1_score(y_true, y_pred)\n",
    "    loss = log_loss(y_true, y_pred)\n",
    "    acc = accuracy_score(y_true, y_pred)\n",
    "    \n",
    "    if retu:\n",
    "        return pre, rec, f1, loss, acc\n",
    "    else:\n",
    "        print('  pre: %.3f\\n  rec: %.3f\\n  f1: %.3f\\n  loss: %.3f\\n  acc: %.3f' % (pre, rec, f1, loss, acc))"
   ]
  },
  {
   "cell_type": "code",
   "execution_count": 288,
   "id": "df89ce4a",
   "metadata": {},
   "outputs": [],
   "source": [
    "# train_eval_train\n",
    "\n",
    "def train_eval_train(models, X, y):\n",
    "    for name, model in models.items():\n",
    "        print(name,':')\n",
    "        model.fit(X, y)\n",
    "        loss(y, model.predict(X))\n",
    "        print('-'*30)"
   ]
  },
  {
   "cell_type": "code",
   "execution_count": 289,
   "id": "e81e07a8",
   "metadata": {},
   "outputs": [
    {
     "name": "stdout",
     "output_type": "stream",
     "text": [
      "LogisticRegression :\n",
      "  pre: 0.814\n",
      "  rec: 0.981\n",
      "  f1: 0.890\n",
      "  loss: 5.847\n",
      "  acc: 0.831\n",
      "------------------------------\n",
      "KNeighborsClassifier :\n",
      "  pre: 0.786\n",
      "  rec: 0.985\n",
      "  f1: 0.874\n",
      "  loss: 6.836\n",
      "  acc: 0.802\n",
      "------------------------------\n",
      "SVC :\n",
      "  pre: 0.815\n",
      "  rec: 0.989\n",
      "  f1: 0.894\n",
      "  loss: 5.667\n",
      "  acc: 0.836\n",
      "------------------------------\n",
      "DecisionTreeClassifier :\n",
      "  pre: 0.803\n",
      "  rec: 0.989\n",
      "  f1: 0.886\n",
      "  loss: 6.116\n",
      "  acc: 0.823\n",
      "------------------------------\n"
     ]
    }
   ],
   "source": [
    "train_eval_models(models, X_train, y_train)"
   ]
  },
  {
   "cell_type": "code",
   "execution_count": null,
   "id": "da9be13e",
   "metadata": {},
   "outputs": [],
   "source": []
  }
 ],
 "metadata": {
  "kernelspec": {
   "display_name": "Python 3 (ipykernel)",
   "language": "python",
   "name": "python3"
  },
  "language_info": {
   "codemirror_mode": {
    "name": "ipython",
    "version": 3
   },
   "file_extension": ".py",
   "mimetype": "text/x-python",
   "name": "python",
   "nbconvert_exporter": "python",
   "pygments_lexer": "ipython3",
   "version": "3.9.7"
  }
 },
 "nbformat": 4,
 "nbformat_minor": 5
}
