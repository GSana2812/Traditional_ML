{
  "cells": [
    {
      "cell_type": "code",
      "execution_count": null,
      "id": "e9b701cc",
      "metadata": {
        "id": "e9b701cc"
      },
      "outputs": [],
      "source": [
        "import pandas as pd;\n",
        "import matplotlib.pyplot as plt;\n",
        "import pandas.io.sql as sqlio;\n",
        "import psycopg2 as ps;\n",
        "import numpy as np;\n",
        "import seaborn as sns;\n",
        "from category_encoders import OneHotEncoder;\n",
        "from sklearn.linear_model import LogisticRegression\n",
        "from sklearn.metrics import accuracy_score\n",
        "from sklearn.model_selection import train_test_split\n",
        "from sklearn.pipeline import Pipeline, make_pipeline"
      ]
    },
    {
      "cell_type": "markdown",
      "id": "94ee5d0f",
      "metadata": {
        "id": "94ee5d0f"
      },
      "source": [
        "In this project we will work with data from **Open Data Nepal** to predict earthquake damage from Nepal 2015 earthquake. We are working with **Sindhupalchok** district in the first 3 projects and with **Okhaldhunga** in the last project. we will build **machine learning models** using **Logistic Regression** and **Decision Trees Classifiers**. These two algorithms deal with **binary classification** problems, which will be explained a little bit later during the project. Right now let's focus to a new way of extracting a dataset, through an existing database in **postgresql**. We will connect the database with our notebook, execute its sql code and then create a dataframe with data from our existing database. As in our previous projects, this project will have its **wrangle** function, where all the **data wrangling and cleaning** codes will take part.\n",
        "\n",
        "**Definition: Logistic Regression is a Machine Learning classification algorithm that is used to predict the probability of a categorical dependent variable. In logistic regression, the dependent variable is a binary variable that contains data coded as 1 (yes, success, etc.) or 0 (no, failure, etc)**."
      ]
    },
    {
      "cell_type": "markdown",
      "id": "76f7db77",
      "metadata": {
        "id": "76f7db77"
      },
      "source": [
        "# Prepare Data"
      ]
    },
    {
      "cell_type": "markdown",
      "id": "9a91be8b",
      "metadata": {
        "id": "9a91be8b"
      },
      "source": [
        "## Import"
      ]
    },
    {
      "cell_type": "code",
      "execution_count": null,
      "id": "07051b24",
      "metadata": {
        "id": "07051b24"
      },
      "outputs": [],
      "source": [
        "def wrangle(dbname, user, password, host, port):\n",
        "    #Connect to database\n",
        "    conn2 = ps.connect(dbname = dbname,\n",
        "                  user = user,\n",
        "                  password = password,\n",
        "                  host = host,\n",
        "                  port = port)\n",
        "\n",
        "    #Construct query\n",
        "    sql = \"\"\"SELECT * FROM public.\"NepalEarthquakeDamage2015\" as Nepal\n",
        "    where Nepal.\"district_id\" = 36\"\"\"\n",
        "\n",
        "    #Read query into dataframe\n",
        "    df = pd.read_sql(sql, conn2, index_col=\"building_id\")\n",
        "\n",
        "    #Identifying high leakage features\n",
        "    drop_cols = [leakage for leakage in df.columns if \"post_eq\" in leakage]\n",
        "\n",
        "    #Drop multicollinearity columns\n",
        "    drop_cols.append(\"count_floors_pre_eq\")\n",
        "\n",
        "    #Drop low or high cardinality features\n",
        "    drop_cols.append(\"district_id\")\n",
        "\n",
        "    #Convert values into 0s and 1s\n",
        "    df[\"damage_grade\"] = df[\"damage_grade\"].str[-1].astype(int);\n",
        "    df[\"severe_damage\"] = (df[\"damage_grade\"] > 3).astype(int);\n",
        "\n",
        "    drop_cols.append(\"damage_grade\")\n",
        "\n",
        "    #Dropping columns\n",
        "    df.drop(columns = drop_cols, inplace = True)\n",
        "\n",
        "    return df"
      ]
    },
    {
      "cell_type": "code",
      "execution_count": null,
      "id": "846e3a1d",
      "metadata": {
        "id": "846e3a1d"
      },
      "outputs": [],
      "source": [
        "df = wrangle(\"postgres\", \"postgres\", \"teknologji\", \"localhost\", \"5432\");"
      ]
    },
    {
      "cell_type": "code",
      "execution_count": null,
      "id": "a7f02115",
      "metadata": {
        "id": "a7f02115",
        "outputId": "a8d6ff34-a45e-496c-e354-ad9f682c44d3"
      },
      "outputs": [
        {
          "data": {
            "text/html": [
              "<div>\n",
              "<style scoped>\n",
              "    .dataframe tbody tr th:only-of-type {\n",
              "        vertical-align: middle;\n",
              "    }\n",
              "\n",
              "    .dataframe tbody tr th {\n",
              "        vertical-align: top;\n",
              "    }\n",
              "\n",
              "    .dataframe thead th {\n",
              "        text-align: right;\n",
              "    }\n",
              "</style>\n",
              "<table border=\"1\" class=\"dataframe\">\n",
              "  <thead>\n",
              "    <tr style=\"text-align: right;\">\n",
              "      <th></th>\n",
              "      <th>age_building</th>\n",
              "      <th>plinth_area_sq_ft</th>\n",
              "      <th>height_ft_pre_eq</th>\n",
              "      <th>land_surface_condition</th>\n",
              "      <th>foundation_type</th>\n",
              "      <th>roof_type</th>\n",
              "      <th>ground_floor_type</th>\n",
              "      <th>other_floor_type</th>\n",
              "      <th>position</th>\n",
              "      <th>plan_configuration</th>\n",
              "      <th>severe_damage</th>\n",
              "    </tr>\n",
              "    <tr>\n",
              "      <th>building_id</th>\n",
              "      <th></th>\n",
              "      <th></th>\n",
              "      <th></th>\n",
              "      <th></th>\n",
              "      <th></th>\n",
              "      <th></th>\n",
              "      <th></th>\n",
              "      <th></th>\n",
              "      <th></th>\n",
              "      <th></th>\n",
              "      <th></th>\n",
              "    </tr>\n",
              "  </thead>\n",
              "  <tbody>\n",
              "    <tr>\n",
              "      <th>360204001191</th>\n",
              "      <td>15</td>\n",
              "      <td>345</td>\n",
              "      <td>18</td>\n",
              "      <td>Steep slope</td>\n",
              "      <td>Mud mortar-Stone/Brick</td>\n",
              "      <td>Bamboo/Timber-Light roof</td>\n",
              "      <td>Brick/Stone</td>\n",
              "      <td>Timber-Planck</td>\n",
              "      <td>Attached-1 side</td>\n",
              "      <td>Rectangular</td>\n",
              "      <td>1</td>\n",
              "    </tr>\n",
              "    <tr>\n",
              "      <th>360204001441</th>\n",
              "      <td>40</td>\n",
              "      <td>640</td>\n",
              "      <td>19</td>\n",
              "      <td>Moderate slope</td>\n",
              "      <td>Mud mortar-Stone/Brick</td>\n",
              "      <td>Bamboo/Timber-Light roof</td>\n",
              "      <td>Brick/Stone</td>\n",
              "      <td>Timber-Planck</td>\n",
              "      <td>Attached-1 side</td>\n",
              "      <td>Rectangular</td>\n",
              "      <td>1</td>\n",
              "    </tr>\n",
              "    <tr>\n",
              "      <th>360204001451</th>\n",
              "      <td>20</td>\n",
              "      <td>350</td>\n",
              "      <td>19</td>\n",
              "      <td>Steep slope</td>\n",
              "      <td>Mud mortar-Stone/Brick</td>\n",
              "      <td>Bamboo/Timber-Light roof</td>\n",
              "      <td>Brick/Stone</td>\n",
              "      <td>Timber-Planck</td>\n",
              "      <td>Not attached</td>\n",
              "      <td>Rectangular</td>\n",
              "      <td>1</td>\n",
              "    </tr>\n",
              "    <tr>\n",
              "      <th>360204001461</th>\n",
              "      <td>15</td>\n",
              "      <td>400</td>\n",
              "      <td>19</td>\n",
              "      <td>Steep slope</td>\n",
              "      <td>Mud mortar-Stone/Brick</td>\n",
              "      <td>Bamboo/Timber-Light roof</td>\n",
              "      <td>Brick/Stone</td>\n",
              "      <td>Timber-Planck</td>\n",
              "      <td>Not attached</td>\n",
              "      <td>Rectangular</td>\n",
              "      <td>1</td>\n",
              "    </tr>\n",
              "    <tr>\n",
              "      <th>360301001381</th>\n",
              "      <td>2</td>\n",
              "      <td>862</td>\n",
              "      <td>10</td>\n",
              "      <td>Flat</td>\n",
              "      <td>RC</td>\n",
              "      <td>RCC/RB/RBC</td>\n",
              "      <td>RC</td>\n",
              "      <td>Not applicable</td>\n",
              "      <td>Attached-2 side</td>\n",
              "      <td>Rectangular</td>\n",
              "      <td>0</td>\n",
              "    </tr>\n",
              "  </tbody>\n",
              "</table>\n",
              "</div>"
            ],
            "text/plain": [
              "              age_building  plinth_area_sq_ft  height_ft_pre_eq  \\\n",
              "building_id                                                       \n",
              "360204001191            15                345                18   \n",
              "360204001441            40                640                19   \n",
              "360204001451            20                350                19   \n",
              "360204001461            15                400                19   \n",
              "360301001381             2                862                10   \n",
              "\n",
              "             land_surface_condition         foundation_type  \\\n",
              "building_id                                                   \n",
              "360204001191            Steep slope  Mud mortar-Stone/Brick   \n",
              "360204001441         Moderate slope  Mud mortar-Stone/Brick   \n",
              "360204001451            Steep slope  Mud mortar-Stone/Brick   \n",
              "360204001461            Steep slope  Mud mortar-Stone/Brick   \n",
              "360301001381                   Flat                      RC   \n",
              "\n",
              "                             roof_type ground_floor_type other_floor_type  \\\n",
              "building_id                                                                 \n",
              "360204001191  Bamboo/Timber-Light roof       Brick/Stone    Timber-Planck   \n",
              "360204001441  Bamboo/Timber-Light roof       Brick/Stone    Timber-Planck   \n",
              "360204001451  Bamboo/Timber-Light roof       Brick/Stone    Timber-Planck   \n",
              "360204001461  Bamboo/Timber-Light roof       Brick/Stone    Timber-Planck   \n",
              "360301001381                RCC/RB/RBC                RC   Not applicable   \n",
              "\n",
              "                     position plan_configuration  severe_damage  \n",
              "building_id                                                      \n",
              "360204001191  Attached-1 side        Rectangular              1  \n",
              "360204001441  Attached-1 side        Rectangular              1  \n",
              "360204001451     Not attached        Rectangular              1  \n",
              "360204001461     Not attached        Rectangular              1  \n",
              "360301001381  Attached-2 side        Rectangular              0  "
            ]
          },
          "execution_count": 102,
          "metadata": {},
          "output_type": "execute_result"
        }
      ],
      "source": [
        "df.head()"
      ]
    },
    {
      "cell_type": "markdown",
      "id": "9b5c28f4",
      "metadata": {
        "id": "9b5c28f4"
      },
      "source": [
        "Since we want to predict whether a building is going to suffer severe damage or not, in an earthquake, we want our model to make those predictions, before earthquake happens, so pre-earthquake. We can see we have features in our dataset, that give information about the buildings conditions after earthquake, so post-earthquake. These are high leakage values that need to be removed.\n",
        "Below ilustrating a photo with the features, needed to be dropped:\n",
        "\n",
        "**df.info()** will show us this photo (**since we have made changes with dropping these features, we upload a photo with previously saved features**"
      ]
    },
    {
      "cell_type": "markdown",
      "id": "92ee52a1",
      "metadata": {
        "id": "92ee52a1"
      },
      "source": [
        "We want to build a **binary classification model**, having as a target **damage_grade** column, but it contains more than 1 value, Grade1-Grade5. We will transform its value in 0s and 1s. If the damage_grade is more than 4 then it will take 1 as a value, if it's less than 4 then it will take 0 as a value. Values will be stored as 0s and 1s in a new column; **severe_damage** in the wrangle function."
      ]
    },
    {
      "cell_type": "markdown",
      "id": "d69a4c06",
      "metadata": {
        "id": "d69a4c06"
      },
      "source": [
        "## Explore"
      ]
    },
    {
      "cell_type": "markdown",
      "id": "244b1eba",
      "metadata": {
        "id": "244b1eba"
      },
      "source": [
        "Since we will be building a linear model, we need to make sure there is no **multicollinearity** in our dataset. Let's build a heatmap, and see that."
      ]
    },
    {
      "cell_type": "code",
      "execution_count": null,
      "id": "f61d8414",
      "metadata": {
        "id": "f61d8414"
      },
      "outputs": [],
      "source": [
        "#corr = df.select_dtypes(\"number\").drop(columns = \"severe_damage\").corr()\n",
        "#sns.heatmap(corr)"
      ]
    },
    {
      "cell_type": "markdown",
      "id": "1e3d7aa4",
      "metadata": {
        "id": "1e3d7aa4"
      },
      "source": [
        "Floors and height are highly correlated with each other. So we need to remove one of these features. To decide this we need to see the correlation between **severe_damage** with each one of these columns.\n",
        "\n",
        "corr(severe_damage and count_floors_pre_eq) ~ 0.02\n",
        "corr(severe_damage and height_ft_pre_eq) ~ -0.03\n",
        "\n",
        "We will remove the first, count_floors_pre_eq, since it has a smaller correlation value or it's less correlated with **severe_damage** column."
      ]
    },
    {
      "cell_type": "code",
      "execution_count": null,
      "id": "61c1a2a3",
      "metadata": {
        "id": "61c1a2a3",
        "outputId": "0a179077-d164-4c8b-cc61-af46740f1f78"
      },
      "outputs": [
        {
          "data": {
            "text/plain": [
              "(78074, 11)"
            ]
          },
          "execution_count": 104,
          "metadata": {},
          "output_type": "execute_result"
        },
        {
          "data": {
            "image/png": "[encoded data removed]",
            "text/plain": [
              "<Figure size 432x288 with 2 Axes>"
            ]
          },
          "metadata": {
            "needs_background": "light"
          },
          "output_type": "display_data"
        }
      ],
      "source": [
        "corr = df.select_dtypes(\"number\").drop(columns = \"severe_damage\").corr()\n",
        "sns.heatmap(corr)\n",
        "\n",
        "df.shape"
      ]
    },
    {
      "cell_type": "markdown",
      "id": "e35de967",
      "metadata": {
        "id": "e35de967"
      },
      "source": [
        "Before we start building our model, let's see the differences of buildings severely damaged (severe_damage == 1) and those not severely damaged (severe_damage == 0).\n",
        "\n",
        "We will create a boxplot, showing the distributions of \"height_ft_pre_eq\" columns for both groups \"severe_damage\"."
      ]
    },
    {
      "cell_type": "code",
      "execution_count": null,
      "id": "274228f6",
      "metadata": {
        "id": "274228f6",
        "outputId": "daa129a6-84c1-499d-b47c-964d020e12b9"
      },
      "outputs": [
        {
          "data": {
            "image/png": "[encoded data removed]",
            "text/plain": [
              "<Figure size 432x288 with 1 Axes>"
            ]
          },
          "metadata": {
            "needs_background": "light"
          },
          "output_type": "display_data"
        }
      ],
      "source": [
        "sns.boxplot(x = \"severe_damage\", y = \"height_ft_pre_eq\", data = df)\n",
        "plt.xlabel(\"Severe Damage\")\n",
        "plt.ylabel(\"Height Pre-Earthquake\")\n",
        "plt.title(\"Distribution of Building Height by Class\");\n",
        "plt.show()"
      ]
    },
    {
      "cell_type": "markdown",
      "id": "4884d94a",
      "metadata": {
        "id": "4884d94a"
      },
      "source": [
        "From the boxplots above we can see that, most of the plots that didn't suffered severe damage are below 20 feet, but we have an almost identical distribution with buildings severely_damaged. There is not a lot of difference in these distributions from a model building perspective. Now we will compare the relative frequencies of the classes."
      ]
    },
    {
      "cell_type": "code",
      "execution_count": null,
      "id": "88fb640f",
      "metadata": {
        "id": "88fb640f",
        "outputId": "32e6992c-7e36-451d-cb28-d7810251f7d2"
      },
      "outputs": [
        {
          "data": {
            "image/png": "[encoded data removed]",
            "text/plain": [
              "<Figure size 432x288 with 1 Axes>"
            ]
          },
          "metadata": {
            "needs_background": "light"
          },
          "output_type": "display_data"
        }
      ],
      "source": [
        "df[\"severe_damage\"].value_counts(normalize = True).plot(kind = \"bar\",\n",
        "                                                       xlabel = \"Class\",\n",
        "                                                       ylabel = \"Relative Frequencies\",\n",
        "                                                       title = \"Class Balance\")\n",
        "plt.show()"
      ]
    },
    {
      "cell_type": "markdown",
      "id": "0fa4b7a6",
      "metadata": {
        "id": "0fa4b7a6"
      },
      "source": [
        "Our positive class, class 1 counts for more than 60 % of our observations. One of these classes will be the most representative class so  majority_class (class 1) and the other one minority_class (class 0)."
      ]
    },
    {
      "cell_type": "code",
      "execution_count": null,
      "id": "79fb0c94",
      "metadata": {
        "id": "79fb0c94",
        "outputId": "4759fc56-abc8-4f5d-e13e-e811ee7c3ea8"
      },
      "outputs": [
        {
          "name": "stdout",
          "output_type": "stream",
          "text": [
            "Majority class Frequency 0.64\n",
            "Minority class Frequency 0.36\n"
          ]
        }
      ],
      "source": [
        "majority, minority = df[\"severe_damage\"].value_counts(normalize = True)\n",
        "print(\"Majority class Frequency\", round(majority,2))\n",
        "print(\"Minority class Frequency\", round(minority,2))"
      ]
    },
    {
      "cell_type": "markdown",
      "id": "052046b9",
      "metadata": {
        "id": "052046b9"
      },
      "source": [
        "Are there foundation types more likely to suffer severe damage?"
      ]
    },
    {
      "cell_type": "code",
      "execution_count": null,
      "id": "e22ebe6e",
      "metadata": {
        "id": "e22ebe6e",
        "outputId": "ea6ed610-4625-4622-9e55-697eaa4c8cd3"
      },
      "outputs": [
        {
          "data": {
            "text/html": [
              "<div>\n",
              "<style scoped>\n",
              "    .dataframe tbody tr th:only-of-type {\n",
              "        vertical-align: middle;\n",
              "    }\n",
              "\n",
              "    .dataframe tbody tr th {\n",
              "        vertical-align: top;\n",
              "    }\n",
              "\n",
              "    .dataframe thead th {\n",
              "        text-align: right;\n",
              "    }\n",
              "</style>\n",
              "<table border=\"1\" class=\"dataframe\">\n",
              "  <thead>\n",
              "    <tr style=\"text-align: right;\">\n",
              "      <th></th>\n",
              "      <th>severe_damage</th>\n",
              "    </tr>\n",
              "    <tr>\n",
              "      <th>foundation_type</th>\n",
              "      <th></th>\n",
              "    </tr>\n",
              "  </thead>\n",
              "  <tbody>\n",
              "    <tr>\n",
              "      <th>RC</th>\n",
              "      <td>0.027134</td>\n",
              "    </tr>\n",
              "    <tr>\n",
              "      <th>Bamboo/Timber</th>\n",
              "      <td>0.321429</td>\n",
              "    </tr>\n",
              "    <tr>\n",
              "      <th>Cement-Stone/Brick</th>\n",
              "      <td>0.410200</td>\n",
              "    </tr>\n",
              "    <tr>\n",
              "      <th>Mud mortar-Stone/Brick</th>\n",
              "      <td>0.684101</td>\n",
              "    </tr>\n",
              "    <tr>\n",
              "      <th>Other</th>\n",
              "      <td>0.801020</td>\n",
              "    </tr>\n",
              "  </tbody>\n",
              "</table>\n",
              "</div>"
            ],
            "text/plain": [
              "                        severe_damage\n",
              "foundation_type                      \n",
              "RC                           0.027134\n",
              "Bamboo/Timber                0.321429\n",
              "Cement-Stone/Brick           0.410200\n",
              "Mud mortar-Stone/Brick       0.684101\n",
              "Other                        0.801020"
            ]
          },
          "execution_count": 108,
          "metadata": {},
          "output_type": "execute_result"
        }
      ],
      "source": [
        "foundation_pivot = pd.pivot_table(df, index = \"foundation_type\",\n",
        "                                  values = \"severe_damage\",\n",
        "                                  aggfunc = np.mean).sort_values(by = \"severe_damage\")\n",
        "\n",
        "\n",
        "foundation_pivot"
      ]
    },
    {
      "cell_type": "code",
      "execution_count": null,
      "id": "950bfab5",
      "metadata": {
        "id": "950bfab5",
        "outputId": "f8cfe042-ee44-46e1-b854-878d8e99dc11"
      },
      "outputs": [
        {
          "data": {
            "image/png": "[encoded data removed]",
            "text/plain": [
              "<Figure size 432x288 with 1 Axes>"
            ]
          },
          "metadata": {
            "needs_background": "light"
          },
          "output_type": "display_data"
        }
      ],
      "source": [
        "#Let's plot this pivot table\n",
        "foundation_pivot.plot(kind = 'barh', legend = None)\n",
        "plt.axvline(majority, linestyle = '--', color = 'red', label = 'Majority Class')\n",
        "plt.axvline(minority, linestyle = '--', color = 'green', label = 'Minority Class')\n",
        "plt.legend()\n",
        "plt.show()"
      ]
    },
    {
      "cell_type": "markdown",
      "id": "5fd9c572",
      "metadata": {
        "id": "5fd9c572"
      },
      "source": [
        "From the chart above, **Mud mortar - Stone/Brick** and **Other** category is more likely to suffer severe damage."
      ]
    },
    {
      "cell_type": "markdown",
      "id": "92a4121a",
      "metadata": {
        "id": "92a4121a"
      },
      "source": [
        "## Split"
      ]
    },
    {
      "cell_type": "code",
      "execution_count": null,
      "id": "0c0cc09c",
      "metadata": {
        "id": "0c0cc09c",
        "outputId": "566f41a9-0996-47fb-d8b9-d8c396b5f216"
      },
      "outputs": [
        {
          "name": "stdout",
          "output_type": "stream",
          "text": [
            "X_train shape: (62459, 10)\n",
            "y_train shape: (62459,)\n",
            "X_test shape: (15615, 10)\n",
            "y_test shape: (15615,)\n"
          ]
        }
      ],
      "source": [
        "target = \"severe_damage\"\n",
        "X = df.drop(columns = \"severe_damage\")\n",
        "y = df[target]\n",
        "\n",
        "X_train, X_test, y_train, y_test = train_test_split(X,y,test_size = 0.2, random_state = 42)\n",
        "\n",
        "print(\"X_train shape:\", X_train.shape)\n",
        "print(\"y_train shape:\", y_train.shape)\n",
        "print(\"X_test shape:\", X_test.shape)\n",
        "print(\"y_test shape:\", y_test.shape)"
      ]
    },
    {
      "cell_type": "markdown",
      "id": "d2698f06",
      "metadata": {
        "id": "d2698f06"
      },
      "source": [
        "# Build Model"
      ]
    },
    {
      "cell_type": "markdown",
      "id": "8069334c",
      "metadata": {
        "id": "8069334c"
      },
      "source": [
        "## Baseline"
      ]
    },
    {
      "cell_type": "markdown",
      "id": "44b16ba7",
      "metadata": {
        "id": "44b16ba7"
      },
      "source": [
        "For classification problems, **accuracy_score** is a metric.This metric is equal to the correct observations during classification process."
      ]
    },
    {
      "cell_type": "markdown",
      "id": "b665f1c3",
      "metadata": {
        "id": "b665f1c3"
      },
      "source": [
        "$$ \\frac{\\text{number of correct observations}}{\\text{number of observations}}.$$"
      ]
    },
    {
      "cell_type": "code",
      "execution_count": null,
      "id": "19a5bea4",
      "metadata": {
        "id": "19a5bea4",
        "outputId": "81a4a974-4b13-4b53-903f-808c462d2e91"
      },
      "outputs": [
        {
          "name": "stdout",
          "output_type": "stream",
          "text": [
            "Baseline accuracy is:  0.64\n"
          ]
        }
      ],
      "source": [
        "acc_baseline = y_train.value_counts(normalize = True).max()\n",
        "print(\"Baseline accuracy is: \",round(acc_baseline,2))"
      ]
    },
    {
      "cell_type": "markdown",
      "id": "6059e1bb",
      "metadata": {
        "id": "6059e1bb"
      },
      "source": [
        "## Iterate"
      ]
    },
    {
      "cell_type": "markdown",
      "id": "dc4a7776",
      "metadata": {
        "id": "dc4a7776"
      },
      "source": [
        "**Logistic Regression** is a sigmoid function. The result will represent the probability of the prediction occurring. Its formula is shown below."
      ]
    },
    {
      "cell_type": "code",
      "execution_count": null,
      "id": "8590d966",
      "metadata": {
        "id": "8590d966",
        "outputId": "b2748735-3483-41e7-ee09-a204f290d6a1"
      },
      "outputs": [
        {
          "name": "stderr",
          "output_type": "stream",
          "text": [
            "C:\\Users\\insgesa\\Anaconda3\\lib\\site-packages\\category_encoders\\utils.py:21: FutureWarning: is_categorical is deprecated and will be removed in a future version.  Use is_categorical_dtype instead\n",
            "  elif pd.api.types.is_categorical(cols):\n"
          ]
        },
        {
          "data": {
            "text/plain": [
              "Pipeline(steps=[('onehotencoder',\n",
              "                 OneHotEncoder(cols=['land_surface_condition',\n",
              "                                     'foundation_type', 'roof_type',\n",
              "                                     'ground_floor_type', 'other_floor_type',\n",
              "                                     'position', 'plan_configuration'],\n",
              "                               use_cat_names=True)),\n",
              "                ('logisticregression', LogisticRegression(max_iter=10000))])"
            ]
          },
          "execution_count": 112,
          "metadata": {},
          "output_type": "execute_result"
        }
      ],
      "source": [
        "#Build Model\n",
        "model = make_pipeline(OneHotEncoder(use_cat_names = True),\n",
        "                     LogisticRegression(max_iter = 10000))\n",
        "\n",
        "model.fit(X_train, y_train)"
      ]
    },
    {
      "cell_type": "markdown",
      "id": "fb385251",
      "metadata": {
        "id": "fb385251"
      },
      "source": [
        "## Evaluate"
      ]
    },
    {
      "cell_type": "code",
      "execution_count": null,
      "id": "2889b26e",
      "metadata": {
        "id": "2889b26e",
        "outputId": "48ab30c2-7abd-45c5-d455-d514c7137147"
      },
      "outputs": [
        {
          "name": "stdout",
          "output_type": "stream",
          "text": [
            "Training Accuracy: 0.705\n",
            "Test Accuracy: 0.707\n"
          ]
        }
      ],
      "source": [
        "#Calculate training and test accuracy score (2 ways to calculate accuracy score)\n",
        "acc_train = accuracy_score(y_train, model.predict(X_train))\n",
        "acc_test = model.score(X_test, y_test)\n",
        "\n",
        "print(\"Training Accuracy:\", round(acc_train,3))\n",
        "print(\"Test Accuracy:\", round(acc_test,3))"
      ]
    },
    {
      "cell_type": "markdown",
      "id": "cf7ae824",
      "metadata": {
        "id": "cf7ae824"
      },
      "source": [
        "We can see we have beaten the baseline accuracy score, and our generalization process have gone very well with similar result as training one. Now let's communicate the results!"
      ]
    },
    {
      "cell_type": "markdown",
      "id": "e9e7a80f",
      "metadata": {
        "id": "e9e7a80f"
      },
      "source": [
        "# Communicate"
      ]
    },
    {
      "cell_type": "code",
      "execution_count": null,
      "id": "0062b2c8",
      "metadata": {
        "id": "0062b2c8",
        "outputId": "6f278438-a891-41c4-cc50-e4869a5c05a5"
      },
      "outputs": [
        {
          "name": "stdout",
          "output_type": "stream",
          "text": [
            "[[0.34244486 0.65755514]\n",
            " [0.59934847 0.40065153]\n",
            " [0.33513228 0.66486772]\n",
            " [0.30950298 0.69049702]\n",
            " [0.17402471 0.82597529]\n",
            " [0.30935566 0.69064434]\n",
            " [0.24173546 0.75826454]\n",
            " [0.30347328 0.69652672]\n",
            " [0.30844036 0.69155964]\n",
            " [0.2430071  0.7569929 ]]\n"
          ]
        }
      ],
      "source": [
        "#predict probability\n",
        "\n",
        "y_train_probability = model.predict_proba(X_train)\n",
        "print(y_train_probability[:10])"
      ]
    },
    {
      "cell_type": "markdown",
      "id": "36b8ee76",
      "metadata": {
        "id": "36b8ee76"
      },
      "source": [
        "In that nested list above, we have the probabilities of buildings severely damaged and not severely_damaged. We can take those exact data of probabilities, just to be more exact, instead of just showing them with **predict** method as below."
      ]
    },
    {
      "cell_type": "code",
      "execution_count": null,
      "id": "6a9e3b97",
      "metadata": {
        "id": "6a9e3b97",
        "outputId": "8f7af726-975a-4dcf-ac90-5ae7806eeab3"
      },
      "outputs": [
        {
          "name": "stdout",
          "output_type": "stream",
          "text": [
            "[1 0 1 1 1 1 1 1 1 1]\n"
          ]
        }
      ],
      "source": [
        "#0th index above stays for not severely damaged and 1st index for severely damaged\n",
        "y_train_probability_1 = model.predict(X_train)\n",
        "print(y_train_probability_1[:10])"
      ]
    },
    {
      "cell_type": "code",
      "execution_count": null,
      "id": "44cd5b2b",
      "metadata": {
        "id": "44cd5b2b",
        "outputId": "c76883a3-db90-4f58-fcc9-44c11c28545c"
      },
      "outputs": [
        {
          "data": {
            "text/plain": [
              "['age_building',\n",
              " 'plinth_area_sq_ft',\n",
              " 'height_ft_pre_eq',\n",
              " 'land_surface_condition_Flat',\n",
              " 'land_surface_condition_Steep slope',\n",
              " 'land_surface_condition_Moderate slope',\n",
              " 'foundation_type_Mud mortar-Stone/Brick',\n",
              " 'foundation_type_RC',\n",
              " 'foundation_type_Bamboo/Timber',\n",
              " 'foundation_type_Cement-Stone/Brick',\n",
              " 'foundation_type_Other',\n",
              " 'roof_type_Bamboo/Timber-Heavy roof',\n",
              " 'roof_type_Bamboo/Timber-Light roof',\n",
              " 'roof_type_RCC/RB/RBC',\n",
              " 'ground_floor_type_Mud',\n",
              " 'ground_floor_type_RC',\n",
              " 'ground_floor_type_Brick/Stone',\n",
              " 'ground_floor_type_Timber',\n",
              " 'ground_floor_type_Other',\n",
              " 'other_floor_type_Not applicable',\n",
              " 'other_floor_type_TImber/Bamboo-Mud',\n",
              " 'other_floor_type_Timber-Planck',\n",
              " 'other_floor_type_RCC/RB/RBC',\n",
              " 'position_Not attached',\n",
              " 'position_Attached-1 side',\n",
              " 'position_Attached-2 side',\n",
              " 'position_Attached-3 side',\n",
              " 'plan_configuration_Rectangular',\n",
              " 'plan_configuration_L-shape',\n",
              " 'plan_configuration_Square',\n",
              " 'plan_configuration_Multi-projected',\n",
              " 'plan_configuration_T-shape',\n",
              " 'plan_configuration_Others',\n",
              " 'plan_configuration_U-shape',\n",
              " 'plan_configuration_E-shape',\n",
              " 'plan_configuration_H-shape',\n",
              " 'plan_configuration_Building with Central Courtyard']"
            ]
          },
          "execution_count": 118,
          "metadata": {},
          "output_type": "execute_result"
        }
      ],
      "source": [
        "#Extracting feature names and importances from our model\n",
        "features = model.named_steps[\"onehotencoder\"].get_feature_names()\n",
        "features"
      ]
    },
    {
      "cell_type": "code",
      "execution_count": null,
      "id": "7dcdc768",
      "metadata": {
        "id": "7dcdc768",
        "outputId": "29691faa-c1a9-4b0c-8b37-7bca73a8d664"
      },
      "outputs": [
        {
          "data": {
            "text/plain": [
              "array([ 8.67324906e-04,  1.93740867e-04,  2.35373267e-03, -3.76113915e-01,\n",
              "        3.06255287e-01, -2.39606742e-01,  7.06431570e-01, -1.16253566e+00,\n",
              "       -6.64401037e-01,  1.22741765e-01,  6.88297989e-01,  4.59927472e-01,\n",
              "        2.86692507e-01, -1.05608535e+00,  1.76681865e-02, -1.00108069e+00,\n",
              "        1.21114006e-01,  5.92261509e-01, -3.94283772e-02, -1.16845233e-01,\n",
              "        7.11224699e-02,  4.74357644e-01, -7.38100251e-01, -1.69447815e-01,\n",
              "       -4.89013798e-02, -4.42108038e-02, -4.69053719e-02,  3.07556307e-01,\n",
              "       -3.23397695e-01,  4.17170268e-02, -2.40366025e-01, -7.31524449e-03,\n",
              "       -1.76895070e-02, -6.48633958e-02,  8.29457770e-03, -1.90940747e-03,\n",
              "       -1.14920067e-02])"
            ]
          },
          "execution_count": 125,
          "metadata": {},
          "output_type": "execute_result"
        }
      ],
      "source": [
        "importances = model.named_steps[\"logisticregression\"].coef_[0]\n",
        "importances"
      ]
    },
    {
      "cell_type": "code",
      "execution_count": null,
      "id": "a39fd59a",
      "metadata": {
        "id": "a39fd59a",
        "outputId": "7a89941f-50ba-4340-e063-a9b4d152f93f"
      },
      "outputs": [
        {
          "data": {
            "text/plain": [
              "foundation_type_RC                                    0.312692\n",
              "roof_type_RCC/RB/RBC                                  0.347815\n",
              "ground_floor_type_RC                                  0.367482\n",
              "other_floor_type_RCC/RB/RBC                           0.478021\n",
              "foundation_type_Bamboo/Timber                         0.514582\n",
              "land_surface_condition_Flat                           0.686524\n",
              "plan_configuration_L-shape                            0.723686\n",
              "plan_configuration_Multi-projected                    0.786340\n",
              "land_surface_condition_Moderate slope                 0.786937\n",
              "position_Not attached                                 0.844131\n",
              "other_floor_type_Not applicable                       0.889723\n",
              "plan_configuration_U-shape                            0.937195\n",
              "position_Attached-1 side                              0.952275\n",
              "position_Attached-3 side                              0.954178\n",
              "position_Attached-2 side                              0.956752\n",
              "ground_floor_type_Other                               0.961339\n",
              "plan_configuration_Others                             0.982466\n",
              "plan_configuration_Building with Central Courtyard    0.988574\n",
              "plan_configuration_T-shape                            0.992711\n",
              "plan_configuration_H-shape                            0.998092\n",
              "plinth_area_sq_ft                                     1.000194\n",
              "age_building                                          1.000868\n",
              "height_ft_pre_eq                                      1.002357\n",
              "plan_configuration_E-shape                            1.008329\n",
              "ground_floor_type_Mud                                 1.017825\n",
              "plan_configuration_Square                             1.042599\n",
              "other_floor_type_TImber/Bamboo-Mud                    1.073713\n",
              "ground_floor_type_Brick/Stone                         1.128754\n",
              "foundation_type_Cement-Stone/Brick                    1.130592\n",
              "roof_type_Bamboo/Timber-Light roof                    1.332015\n",
              "land_surface_condition_Steep slope                    1.358329\n",
              "plan_configuration_Rectangular                        1.360097\n",
              "roof_type_Bamboo/Timber-Heavy roof                    1.583959\n",
              "other_floor_type_Timber-Planck                        1.606982\n",
              "ground_floor_type_Timber                              1.808073\n",
              "foundation_type_Other                                 1.990325\n",
              "foundation_type_Mud mortar-Stone/Brick                2.026746\n",
              "dtype: float64"
            ]
          },
          "execution_count": 128,
          "metadata": {},
          "output_type": "execute_result"
        }
      ],
      "source": [
        "#Logistic regression is an exponential regression so we use np.exp for that\n",
        "ratios_series = pd.Series(np.exp(importances), index = features).sort_values()\n",
        "ratios_series"
      ]
    },
    {
      "cell_type": "code",
      "execution_count": null,
      "id": "661448be",
      "metadata": {
        "id": "661448be",
        "outputId": "f42a57b4-7d92-4157-ca4d-6999ac3343a6"
      },
      "outputs": [
        {
          "data": {
            "image/png": "[encoded data removed]",
            "text/plain": [
              "<Figure size 432x288 with 1 Axes>"
            ]
          },
          "metadata": {
            "needs_background": "light"
          },
          "output_type": "display_data"
        }
      ],
      "source": [
        "#Bar chart with 5 largest coefficients\n",
        "ratios_series.tail().plot(kind = \"barh\")\n",
        "plt.xlabel(\"Odds ratio\")\n",
        "plt.axvline(1)\n",
        "plt.show()"
      ]
    },
    {
      "cell_type": "markdown",
      "id": "ff34cb4e",
      "metadata": {
        "id": "ff34cb4e"
      },
      "source": [
        "From the chart above we can see that foundations as **Mud mortar-Stone/Brick** are twice more likely (so 200%) to suffer severe damage from the earthquake."
      ]
    },
    {
      "cell_type": "code",
      "execution_count": null,
      "id": "563e999e",
      "metadata": {
        "id": "563e999e",
        "outputId": "339b653c-aba7-4686-be47-cbc1b5e9272b"
      },
      "outputs": [
        {
          "data": {
            "image/png": "[encoded data removed]",
            "text/plain": [
              "<Figure size 432x288 with 1 Axes>"
            ]
          },
          "metadata": {
            "needs_background": "light"
          },
          "output_type": "display_data"
        }
      ],
      "source": [
        "#Bar chart with 5 smallest coefficients\n",
        "ratios_series.head().plot(kind = \"barh\")\n",
        "plt.xlabel(\"Odds ratio\")\n",
        "plt.axvline(1)\n",
        "plt.show()"
      ]
    },
    {
      "cell_type": "markdown",
      "id": "136a023a",
      "metadata": {
        "id": "136a023a"
      },
      "source": [
        "While in this case, the foundation type **Bamboo/Timber** is 50% less likely to suffer from severe damage from the earthquake."
      ]
    },
    {
      "cell_type": "code",
      "execution_count": null,
      "id": "bf04b059",
      "metadata": {
        "id": "bf04b059"
      },
      "outputs": [],
      "source": []
    }
  ],
  "metadata": {
    "kernelspec": {
      "display_name": "Python 3 (ipykernel)",
      "language": "python",
      "name": "python3"
    },
    "language_info": {
      "codemirror_mode": {
        "name": "ipython",
        "version": 3
      },
      "file_extension": ".py",
      "mimetype": "text/x-python",
      "name": "python",
      "nbconvert_exporter": "python",
      "pygments_lexer": "ipython3",
      "version": "3.9.7"
    },
    "colab": {
      "provenance": []
    }
  },
  "nbformat": 4,
  "nbformat_minor": 5
}